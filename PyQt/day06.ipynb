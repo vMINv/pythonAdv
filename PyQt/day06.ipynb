{
 "cells": [
  {
   "cell_type": "code",
   "execution_count": 7,
   "metadata": {},
   "outputs": [],
   "source": [
    "import sys\n",
    "from PyQt5.QtWidgets import *\n",
    "from PyQt5 import uic\n",
    "from PyQt5.QtGui import QIcon\n",
    "from PyQt5.QtCore import QCoreApplication"
   ]
  },
  {
   "cell_type": "code",
   "execution_count": 3,
   "metadata": {},
   "outputs": [
    {
     "name": "stdout",
     "output_type": "stream",
     "text": [
      "2nd\n"
     ]
    },
    {
     "data": {
      "text/plain": [
       "0"
      ]
     },
     "execution_count": 3,
     "metadata": {},
     "output_type": "execute_result"
    }
   ],
   "source": [
    "# Conbo Box\n",
    "form_class = uic.loadUiType('mywindow.ui')[0]\n",
    "\n",
    "class MyWindow(QMainWindow, form_class):\n",
    "    def __init__(self):\n",
    "        super().__init__()\n",
    "        self.setupUi(self)\n",
    "\n",
    "        self.printItem.clicked.connect(self.printFunction)\n",
    "\n",
    "    def printFunction(self):\n",
    "        print(self.comboBox.currentText())\n",
    "\n",
    "app = QApplication(sys.argv)\n",
    "window = MyWindow()\n",
    "window.show()\n",
    "app.exec_()"
   ]
  },
  {
   "cell_type": "code",
   "execution_count": 1,
   "metadata": {},
   "outputs": [
    {
     "data": {
      "text/plain": [
       "0"
      ]
     },
     "execution_count": 1,
     "metadata": {},
     "output_type": "execute_result"
    }
   ],
   "source": [
    "# Table Widget\n",
    "import sys\n",
    "from PyQt5.QtWidgets import *\n",
    "from PyQt5 import uic\n",
    "from PyQt5.QtGui import QIcon\n",
    "from PyQt5.QtCore import QCoreApplication\n",
    "\n",
    "class Mywindow(QMainWindow):\n",
    "    def __init__(self):\n",
    "        super().__init__() # 윈도우 창  \n",
    "        self.setGeometry(800, 200, 300, 300)\n",
    "\n",
    "        self.tableWidget = QTableWidget(self) # 윈도우에 테이블 위젯 넣기 \n",
    "        self.tableWidget.resize(290, 290)\n",
    "        self.tableWidget.setColumnCount(2) # 열 지정 필수\n",
    "        self.tableWidget.setRowCount(5)\n",
    "\n",
    "        self.tableWidget.setItem(0, 0, QTableWidgetItem('비트코인')) # 테이블위젯에 데이터 넣기 (행, 열, 넣을값)\n",
    "        self.tableWidget.setItem(0, 1, QTableWidgetItem('31000000'))\n",
    "        \n",
    "        self.tableWidget.setItem(1, 0,QTableWidgetItem('이더리움'))\n",
    "        self.tableWidget.setItem(1, 1,QTableWidgetItem('21000000'))\n",
    "        \n",
    "        self.tableWidget.setItem(2, 0,QTableWidgetItem('리플'))\n",
    "\n",
    "app = QApplication(sys.argv)\n",
    "window = Mywindow()\n",
    "window.show()\n",
    "app.exec_()"
   ]
  },
  {
   "cell_type": "code",
   "execution_count": 1,
   "metadata": {},
   "outputs": [
    {
     "data": {
      "text/plain": [
       "0"
      ]
     },
     "execution_count": 1,
     "metadata": {},
     "output_type": "execute_result"
    }
   ],
   "source": [
    "# 현재 온도 조회 앱\n",
    "import sys\n",
    "from PyQt5.QtWidgets import *\n",
    "from PyQt5 import uic\n",
    "from PyQt5.QtGui import QIcon\n",
    "from PyQt5.QtCore import QCoreApplication\n",
    "from bs4 import BeautifulSoup as bs\n",
    "import requests\n",
    "\n",
    "form_class = uic.loadUiType('weather.ui')[0]\n",
    "\n",
    "class MyWindow(QMainWindow, form_class):\n",
    "    def __init__(self):\n",
    "        super().__init__()\n",
    "        self.setupUi(self)\n",
    "\n",
    "        self.pushButton.clicked.connect(self.changeFunction)\n",
    "\n",
    "    def changeFunction(self):\n",
    "        txt = requests.get('https://weather.naver.com/')\n",
    "        html = bs(txt.text)\n",
    "\n",
    "        temp = html.select('strong.current')[0].text.strip().replace(\"현재 온도\",\"\")    \n",
    "        self.lineEdit.setText(temp)\n",
    "\n",
    "app = QApplication(sys.argv)\n",
    "window = MyWindow()\n",
    "window.show()\n",
    "app.exec_()"
   ]
  },
  {
   "cell_type": "code",
   "execution_count": 1,
   "metadata": {},
   "outputs": [
    {
     "ename": "AttributeError",
     "evalue": "'QTableWidget' object has no attribute 'refresh'",
     "output_type": "error",
     "traceback": [
      "\u001b[0;31m---------------------------------------------------------------------------\u001b[0m",
      "\u001b[0;31mAttributeError\u001b[0m                            Traceback (most recent call last)",
      "\u001b[0;32m/var/folders/_j/xfcnlqrd2nn2csm0b_0f87hc0000gn/T/ipykernel_2196/3409802033.py\u001b[0m in \u001b[0;36m<module>\u001b[0;34m\u001b[0m\n\u001b[1;32m     25\u001b[0m \u001b[0;34m\u001b[0m\u001b[0m\n\u001b[1;32m     26\u001b[0m \u001b[0mapp\u001b[0m \u001b[0;34m=\u001b[0m \u001b[0mQApplication\u001b[0m\u001b[0;34m(\u001b[0m\u001b[0msys\u001b[0m\u001b[0;34m.\u001b[0m\u001b[0margv\u001b[0m\u001b[0;34m)\u001b[0m\u001b[0;34m\u001b[0m\u001b[0;34m\u001b[0m\u001b[0m\n\u001b[0;32m---> 27\u001b[0;31m \u001b[0mwindow\u001b[0m \u001b[0;34m=\u001b[0m \u001b[0mMyWindow\u001b[0m\u001b[0;34m(\u001b[0m\u001b[0;34m)\u001b[0m\u001b[0;34m\u001b[0m\u001b[0;34m\u001b[0m\u001b[0m\n\u001b[0m\u001b[1;32m     28\u001b[0m \u001b[0mwindow\u001b[0m\u001b[0;34m.\u001b[0m\u001b[0mshow\u001b[0m\u001b[0;34m(\u001b[0m\u001b[0;34m)\u001b[0m\u001b[0;34m\u001b[0m\u001b[0;34m\u001b[0m\u001b[0m\n\u001b[1;32m     29\u001b[0m \u001b[0mapp\u001b[0m\u001b[0;34m.\u001b[0m\u001b[0mexec_\u001b[0m\u001b[0;34m(\u001b[0m\u001b[0;34m)\u001b[0m\u001b[0;34m\u001b[0m\u001b[0;34m\u001b[0m\u001b[0m\n",
      "\u001b[0;32m/var/folders/_j/xfcnlqrd2nn2csm0b_0f87hc0000gn/T/ipykernel_2196/3409802033.py\u001b[0m in \u001b[0;36m__init__\u001b[0;34m(self)\u001b[0m\n\u001b[1;32m     22\u001b[0m             \u001b[0mself\u001b[0m\u001b[0;34m.\u001b[0m\u001b[0mtableWidget\u001b[0m\u001b[0;34m.\u001b[0m\u001b[0msetItem\u001b[0m\u001b[0;34m(\u001b[0m\u001b[0mi\u001b[0m\u001b[0;34m,\u001b[0m \u001b[0;36m1\u001b[0m\u001b[0;34m,\u001b[0m \u001b[0mQTableWidgetItem\u001b[0m\u001b[0;34m(\u001b[0m\u001b[0mstr\u001b[0m\u001b[0;34m(\u001b[0m\u001b[0mprice\u001b[0m\u001b[0;34m)\u001b[0m\u001b[0;34m)\u001b[0m\u001b[0;34m)\u001b[0m\u001b[0;34m\u001b[0m\u001b[0;34m\u001b[0m\u001b[0m\n\u001b[1;32m     23\u001b[0m \u001b[0;34m\u001b[0m\u001b[0m\n\u001b[0;32m---> 24\u001b[0;31m         \u001b[0mself\u001b[0m\u001b[0;34m.\u001b[0m\u001b[0mtableWidget\u001b[0m\u001b[0;34m.\u001b[0m\u001b[0mrefresh\u001b[0m\u001b[0;34m(\u001b[0m\u001b[0mtime\u001b[0m\u001b[0;34m.\u001b[0m\u001b[0msleep\u001b[0m\u001b[0;34m(\u001b[0m\u001b[0;36m2\u001b[0m\u001b[0;34m)\u001b[0m\u001b[0;34m)\u001b[0m\u001b[0;34m\u001b[0m\u001b[0;34m\u001b[0m\u001b[0m\n\u001b[0m\u001b[1;32m     25\u001b[0m \u001b[0;34m\u001b[0m\u001b[0m\n\u001b[1;32m     26\u001b[0m \u001b[0mapp\u001b[0m \u001b[0;34m=\u001b[0m \u001b[0mQApplication\u001b[0m\u001b[0;34m(\u001b[0m\u001b[0msys\u001b[0m\u001b[0;34m.\u001b[0m\u001b[0margv\u001b[0m\u001b[0;34m)\u001b[0m\u001b[0;34m\u001b[0m\u001b[0;34m\u001b[0m\u001b[0m\n",
      "\u001b[0;31mAttributeError\u001b[0m: 'QTableWidget' object has no attribute 'refresh'"
     ]
    }
   ],
   "source": [
    "# 코인 가격 조회 앱\n",
    "import sys\n",
    "from PyQt5.QtWidgets import *\n",
    "from PyQt5 import uic\n",
    "from PyQt5.QtCore import QCoreApplication\n",
    "import requests\n",
    "import pybithumb as pb\n",
    "import time\n",
    "\n",
    "form_class = uic.loadUiType('coin.ui')[0]\n",
    "\n",
    "class MyWindow(QMainWindow, form_class):\n",
    "    def __init__(self):\n",
    "        super().__init__()\n",
    "        self.setupUi(self)\n",
    "        \n",
    "        tickers = ['BTC', 'ETC', 'XRP', 'ADA']\n",
    "        for i, ticker in enumerate(tickers):\n",
    "            price = pb.get_current_price(ticker)\n",
    "\n",
    "            self.tableWidget.setItem(i, 0, QTableWidgetItem(ticker))\n",
    "            self.tableWidget.setItem(i, 1, QTableWidgetItem(str(price)))\n",
    "\n",
    "app = QApplication(sys.argv)\n",
    "window = MyWindow()\n",
    "window.show()\n",
    "app.exec_()"
   ]
  },
  {
   "cell_type": "code",
   "execution_count": 2,
   "metadata": {},
   "outputs": [
    {
     "name": "stderr",
     "output_type": "stream",
     "text": [
      "/var/folders/_j/xfcnlqrd2nn2csm0b_0f87hc0000gn/T/ipykernel_1988/3298792675.py:29: DeprecationWarning: executable_path has been deprecated, please pass in a Service object\n",
      "  driver = webdriver.Chrome('chromedriver.exe')\n",
      "/var/folders/_j/xfcnlqrd2nn2csm0b_0f87hc0000gn/T/ipykernel_1988/3298792675.py:49: DeprecationWarning: executable_path has been deprecated, please pass in a Service object\n",
      "  driver = webdriver.Chrome('chromedriver.exe')\n"
     ]
    },
    {
     "data": {
      "text/plain": [
       "0"
      ]
     },
     "execution_count": 2,
     "metadata": {},
     "output_type": "execute_result"
    }
   ],
   "source": [
    "# 음원 차트 조회 앱\n",
    "import sys\n",
    "from PyQt5.QtWidgets import *\n",
    "from PyQt5 import uic\n",
    "from PyQt5.QtCore import QCoreApplication\n",
    "import requests\n",
    "import pybithumb as pb\n",
    "from bs4 import BeautifulSoup as bs\n",
    "import pandas as pd\n",
    "from selenium import webdriver\n",
    "\n",
    "form_class = uic.loadUiType('chart.ui')[0]\n",
    "\n",
    "class MyWindow(QMainWindow, form_class):\n",
    "    def __init__(self):\n",
    "        super().__init__()\n",
    "        self.setupUi(self)\n",
    "\n",
    "        self.MelonBtn.clicked.connect(self.melonFunction)\n",
    "        self.GenieBtn.clicked.connect(self.genieFunction)\n",
    "        self.BugsBtn.clicked.connect(self.bugsFunction)\n",
    "\n",
    "    def melonFunction(self):\n",
    "        self.tableWidget.clear()\n",
    "        self.label.setText('Melon Chart 100')\n",
    "\n",
    "        ##### Melon 차트 읽어오기 #####\n",
    "        url = \"https://www.melon.com/chart/\"\n",
    "        driver = webdriver.Chrome('chromedriver.exe')\n",
    "        driver.get(url)\n",
    "        txt = driver.page_source\n",
    "        html = bs(txt)\n",
    "        songs = html.select('tbody > tr')\n",
    "\n",
    "        for i, song in enumerate(songs):\n",
    "            title = song.select('div.rank01 > span > a')[0].text\n",
    "            singer = song.select('div.rank02 > span > a')[0].text\n",
    "\n",
    "            self.tableWidget.setItem(i, 0, QTableWidgetItem('Melon'))\n",
    "            self.tableWidget.setItem(i, 1, QTableWidgetItem(title))\n",
    "            self.tableWidget.setItem(i, 2, QTableWidgetItem(singer))\n",
    "\n",
    "    def genieFunction(self):\n",
    "        self.tableWidget.clear()\n",
    "        self.label.setText('Genie Chart 100')\n",
    "\n",
    "        ##### Genie 차트 읽어오기 #####\n",
    "        #1~50\n",
    "        driver = webdriver.Chrome('chromedriver.exe')\n",
    "        url = 'https://www.genie.co.kr/chart/top200'\n",
    "        driver.get(url)\n",
    "        txt = driver.page_source\n",
    "        html = bs(txt)\n",
    "        songs = html.select('tbody>tr')\n",
    "\n",
    "        for i, song in enumerate(songs):\n",
    "            title = song.select('a.title')[0].text.strip()\n",
    "            singer = song.select('a.artist')[0].text\n",
    "\n",
    "            self.tableWidget.setItem(i, 0, QTableWidgetItem('Genie'))\n",
    "            self.tableWidget.setItem(i, 1, QTableWidgetItem(title))\n",
    "            self.tableWidget.setItem(i, 2, QTableWidgetItem(singer))\n",
    "\n",
    "        #51~100\n",
    "        url = 'https://www.genie.co.kr/chart/top200?ditc=D&ymd=20230227&hh=16&rtm=Y&pg=2'\n",
    "        driver.get(url)\n",
    "        txt = driver.page_source\n",
    "        html = bs(txt)\n",
    "        songs = html.select('tbody>tr')\n",
    "\n",
    "        for i, song in enumerate(songs):\n",
    "            title = song.select('a.title')[0].text.strip()\n",
    "            singer = song.select('a.artist')[0].text\n",
    "\n",
    "            self.tableWidget.setItem(i+50, 0, QTableWidgetItem('Genie'))\n",
    "            self.tableWidget.setItem(i+50, 1, QTableWidgetItem(title))\n",
    "            self.tableWidget.setItem(i+50, 2, QTableWidgetItem(singer))\n",
    "\n",
    "    def bugsFunction(self):\n",
    "        self.tableWidget.clear()\n",
    "        self.label.setText('Bugs Chart 100')\n",
    "\n",
    "        ##### Bugs 차트 읽어오기 #####\n",
    "        url = \"https://music.bugs.co.kr/chart\"\n",
    "        html = bs(requests.get(url).text)\n",
    "        songs = html.select('table.byChart > tbody > tr')\n",
    "\n",
    "        for i, song in enumerate(songs):\n",
    "            title = song.select('p.title > a')[0].text\n",
    "            singer = song.select('p.artist > a')[0].text\n",
    "\n",
    "            self.tableWidget.setItem(i, 0, QTableWidgetItem('Bugs'))\n",
    "            self.tableWidget.setItem(i, 1, QTableWidgetItem(title))\n",
    "            self.tableWidget.setItem(i, 2, QTableWidgetItem(singer))\n",
    "    \n",
    "app = QApplication(sys.argv)\n",
    "window = MyWindow()\n",
    "window.show()\n",
    "app.exec_()"
   ]
  }
 ],
 "metadata": {
  "kernelspec": {
   "display_name": "base",
   "language": "python",
   "name": "python3"
  },
  "language_info": {
   "codemirror_mode": {
    "name": "ipython",
    "version": 3
   },
   "file_extension": ".py",
   "mimetype": "text/x-python",
   "name": "python",
   "nbconvert_exporter": "python",
   "pygments_lexer": "ipython3",
   "version": "3.9.13"
  },
  "orig_nbformat": 4
 },
 "nbformat": 4,
 "nbformat_minor": 2
}
