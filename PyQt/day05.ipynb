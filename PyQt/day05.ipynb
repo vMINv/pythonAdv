{
 "cells": [
  {
   "cell_type": "code",
   "execution_count": 2,
   "metadata": {},
   "outputs": [
    {
     "name": "stdout",
     "output_type": "stream",
     "text": [
      "Collecting pymysql\n",
      "  Downloading PyMySQL-1.0.2-py3-none-any.whl (43 kB)\n",
      "\u001b[2K     \u001b[90m━━━━━━━━━━━━━━━━━━━━━━━━━━━━━━━━━━━━━━━━\u001b[0m \u001b[32m43.8/43.8 kB\u001b[0m \u001b[31m5.4 MB/s\u001b[0m eta \u001b[36m0:00:00\u001b[0m\n",
      "\u001b[?25hInstalling collected packages: pymysql\n",
      "Successfully installed pymysql-1.0.2\n"
     ]
    }
   ],
   "source": [
    "!pip install pymysql"
   ]
  },
  {
   "cell_type": "code",
   "execution_count": 3,
   "metadata": {},
   "outputs": [
    {
     "name": "stdout",
     "output_type": "stream",
     "text": [
      "Collecting PyQt5\n",
      "  Downloading PyQt5-5.15.9-cp37-abi3-macosx_10_13_x86_64.whl (7.0 MB)\n",
      "\u001b[2K     \u001b[90m━━━━━━━━━━━━━━━━━━━━━━━━━━━━━━━━━━━━━━━━\u001b[0m \u001b[32m7.0/7.0 MB\u001b[0m \u001b[31m11.2 MB/s\u001b[0m eta \u001b[36m0:00:00\u001b[0m00:01\u001b[0m00:01\u001b[0m\n",
      "\u001b[?25hRequirement already satisfied: PyQt5-sip<13,>=12.11 in /Users/shimhyunmin/opt/anaconda3/lib/python3.9/site-packages (from PyQt5) (12.11.0)\n",
      "Collecting PyQt5-Qt5>=5.15.2\n",
      "  Downloading PyQt5_Qt5-5.15.2-py3-none-macosx_10_13_intel.whl (40.5 MB)\n",
      "\u001b[2K     \u001b[90m━━━━━━━━━━━━━━━━━━━━━━━━━━━━━━━━━━━━━━━━\u001b[0m \u001b[32m40.5/40.5 MB\u001b[0m \u001b[31m10.6 MB/s\u001b[0m eta \u001b[36m0:00:00\u001b[0m00:01\u001b[0m00:01\u001b[0m\n",
      "\u001b[?25hInstalling collected packages: PyQt5-Qt5, PyQt5\n",
      "\u001b[31mERROR: pip's dependency resolver does not currently take into account all the packages that are installed. This behaviour is the source of the following dependency conflicts.\n",
      "spyder 5.3.3 requires pyqtwebengine<5.16, which is not installed.\u001b[0m\u001b[31m\n",
      "\u001b[0mSuccessfully installed PyQt5-5.15.9 PyQt5-Qt5-5.15.2\n"
     ]
    }
   ],
   "source": [
    "!pip install PyQt5"
   ]
  },
  {
   "cell_type": "code",
   "execution_count": 4,
   "metadata": {},
   "outputs": [],
   "source": [
    "import pymysql\n",
    "import requests"
   ]
  },
  {
   "cell_type": "code",
   "execution_count": 6,
   "metadata": {},
   "outputs": [],
   "source": [
    "conn = pymysql.connect(host='tlagusals.cafe24.com', user='tlagusals', password='Newnew11@', db='tlagusals', charset='utf8')"
   ]
  },
  {
   "cell_type": "code",
   "execution_count": 7,
   "metadata": {},
   "outputs": [],
   "source": [
    "cur = conn.cursor()"
   ]
  },
  {
   "cell_type": "code",
   "execution_count": 8,
   "metadata": {},
   "outputs": [
    {
     "name": "stdout",
     "output_type": "stream",
     "text": [
      "((b'0224ceo', b'ceo', b'0000', b'ceo@ceo.com', b'ceo'),\n",
      " (b'0224user', b'user', b'0000', b'user@user.com', b'user'),\n",
      " (b'admin',\n",
      "  b'admin',\n",
      "  b'1111',\n",
      "  b'hyunmin04050@gmail.com',\n",
      "  b'\\xea\\xb4\\x80\\xeb\\xa6\\xac\\xec\\x9e\\x90'),\n",
      " (b'bright',\n",
      "  b'user',\n",
      "  b'1234',\n",
      "  b'bright@naver.com',\n",
      "  b'\\xea\\xb9\\x80\\xed\\x98\\x95\\xec\\xa4\\x80'),\n",
      " (b'ceo', b'ceo', b'1234', b'ceo@naver.com', b'ceo'),\n",
      " (b'gusals',\n",
      "  b'ceo',\n",
      "  b'1111',\n",
      "  b'hyunmin04050@gmail.com',\n",
      "  b'\\xed\\x98\\x84\\xeb\\xaf\\xbc'),\n",
      " (b'hyunmin',\n",
      "  b'user',\n",
      "  b'1111',\n",
      "  b'hyunmin04050@gmail.com',\n",
      "  b'\\xec\\x8b\\xac\\xed\\x98\\x84\\xeb\\xaf\\xbc'),\n",
      " (b'ksb', b'user', b'ksb', b'ksb@ksb', b'\\xea\\xb0\\x95\\xec\\x84\\xb8\\xeb\\xb9\\x88'),\n",
      " (b't1', b'user', b't1', b't1@t1', b't11'))\n"
     ]
    }
   ],
   "source": [
    "cur.execute(\"SELECT * FROM user\")\n",
    "result = cur.fetchall()\n",
    "import pprint\n",
    "pprint.pprint(result)"
   ]
  },
  {
   "cell_type": "code",
   "execution_count": 9,
   "metadata": {},
   "outputs": [
    {
     "ename": "KeyboardInterrupt",
     "evalue": "",
     "output_type": "error",
     "traceback": [
      "\u001b[0;31m---------------------------------------------------------------------------\u001b[0m",
      "\u001b[0;31mKeyboardInterrupt\u001b[0m                         Traceback (most recent call last)",
      "\u001b[0;32m/var/folders/_j/xfcnlqrd2nn2csm0b_0f87hc0000gn/T/ipykernel_1322/1940392515.py\u001b[0m in \u001b[0;36m<module>\u001b[0;34m\u001b[0m\n\u001b[1;32m     14\u001b[0m \u001b[0mapp\u001b[0m \u001b[0;34m=\u001b[0m \u001b[0mQApplication\u001b[0m\u001b[0;34m(\u001b[0m\u001b[0msys\u001b[0m\u001b[0;34m.\u001b[0m\u001b[0margv\u001b[0m\u001b[0;34m)\u001b[0m\u001b[0;34m\u001b[0m\u001b[0;34m\u001b[0m\u001b[0m\n\u001b[1;32m     15\u001b[0m \u001b[0mex\u001b[0m \u001b[0;34m=\u001b[0m \u001b[0mMyApp\u001b[0m\u001b[0;34m(\u001b[0m\u001b[0;34m)\u001b[0m\u001b[0;34m\u001b[0m\u001b[0;34m\u001b[0m\u001b[0m\n\u001b[0;32m---> 16\u001b[0;31m \u001b[0msys\u001b[0m\u001b[0;34m.\u001b[0m\u001b[0mexit\u001b[0m\u001b[0;34m(\u001b[0m\u001b[0mapp\u001b[0m\u001b[0;34m.\u001b[0m\u001b[0mexec_\u001b[0m\u001b[0;34m(\u001b[0m\u001b[0;34m)\u001b[0m\u001b[0;34m)\u001b[0m\u001b[0;34m\u001b[0m\u001b[0;34m\u001b[0m\u001b[0m\n\u001b[0m",
      "\u001b[0;31mKeyboardInterrupt\u001b[0m: "
     ]
    }
   ],
   "source": [
    "# 윈도우 창  띄우기 (수동)\n",
    "import sys\n",
    "from PyQt5.QtWidgets import QApplication, QWidget # 기본적인 창 구성 요소 제공 PyQt5.QtWidgets\n",
    "\n",
    "class MyApp(QWidget):\n",
    "    def __init__(self): # 생성자 설정 \n",
    "        super().__init__()\n",
    "        self.initUI()\n",
    "\n",
    "    def initUI(self): # 창 기본 설정 > 제목 설정\n",
    "        self.setWindowTitle(\"Hello World!!!\")\n",
    "        self.show()\n",
    "\n",
    "app = QApplication(sys.argv) # 파이썬은 인터프리터라서 코드 한줄 한줄을 실행 후 종료한다. 다음은 열린 파일 유지 시키는 코드 3줄\n",
    "ex = MyApp()\n",
    "sys.exit(app.exec_())"
   ]
  },
  {
   "cell_type": "code",
   "execution_count": 1,
   "metadata": {},
   "outputs": [
    {
     "ename": "KeyboardInterrupt",
     "evalue": "",
     "output_type": "error",
     "traceback": [
      "\u001b[0;31m---------------------------------------------------------------------------\u001b[0m",
      "\u001b[0;31mKeyboardInterrupt\u001b[0m                         Traceback (most recent call last)",
      "\u001b[0;32m/var/folders/_j/xfcnlqrd2nn2csm0b_0f87hc0000gn/T/ipykernel_1878/2061120610.py\u001b[0m in \u001b[0;36m<module>\u001b[0;34m\u001b[0m\n\u001b[1;32m     17\u001b[0m \u001b[0mapp\u001b[0m \u001b[0;34m=\u001b[0m \u001b[0mQApplication\u001b[0m\u001b[0;34m(\u001b[0m\u001b[0msys\u001b[0m\u001b[0;34m.\u001b[0m\u001b[0margv\u001b[0m\u001b[0;34m)\u001b[0m \u001b[0;31m# 파이썬은 인터프리터라서 코드 한줄 한줄을 실행 후 종료한다. 다음은 열린 파일 유지 시키는 코드 3줄\u001b[0m\u001b[0;34m\u001b[0m\u001b[0;34m\u001b[0m\u001b[0m\n\u001b[1;32m     18\u001b[0m \u001b[0mex\u001b[0m \u001b[0;34m=\u001b[0m \u001b[0mMyApp\u001b[0m\u001b[0;34m(\u001b[0m\u001b[0;34m)\u001b[0m\u001b[0;34m\u001b[0m\u001b[0;34m\u001b[0m\u001b[0m\n\u001b[0;32m---> 19\u001b[0;31m \u001b[0msys\u001b[0m\u001b[0;34m.\u001b[0m\u001b[0mexit\u001b[0m\u001b[0;34m(\u001b[0m\u001b[0mapp\u001b[0m\u001b[0;34m.\u001b[0m\u001b[0mexec_\u001b[0m\u001b[0;34m(\u001b[0m\u001b[0;34m)\u001b[0m\u001b[0;34m)\u001b[0m\u001b[0;34m\u001b[0m\u001b[0;34m\u001b[0m\u001b[0m\n\u001b[0m",
      "\u001b[0;31mKeyboardInterrupt\u001b[0m: "
     ]
    }
   ],
   "source": [
    "# 윈도우 창  띄우기 (수동) 2\n",
    "import sys\n",
    "from PyQt5.QtWidgets import QApplication, QWidget, QPushButton\n",
    "from PyQt5.QtCore import QCoreApplication\n",
    "\n",
    "class MyApp(QWidget):\n",
    "    def __init__(self):\n",
    "        super().__init__()\n",
    "        self.initUI()\n",
    "\n",
    "    def initUI(self):\n",
    "        self.setWindowTitle(\"Hello\")\n",
    "        btn = QPushButton('Quit', self)\n",
    "        btn.clicked.connect(QCoreApplication.instance().quit)\n",
    "        self.show()\n",
    "\n",
    "app = QApplication(sys.argv)\n",
    "ex = MyApp()\n",
    "sys.exit(app.exec_())"
   ]
  },
  {
   "cell_type": "code",
   "execution_count": 1,
   "metadata": {},
   "outputs": [
    {
     "ename": "SystemExit",
     "evalue": "0",
     "output_type": "error",
     "traceback": [
      "An exception has occurred, use %tb to see the full traceback.\n",
      "\u001b[0;31mSystemExit\u001b[0m\u001b[0;31m:\u001b[0m 0\n"
     ]
    },
    {
     "name": "stderr",
     "output_type": "stream",
     "text": [
      "/Users/shimhyunmin/opt/anaconda3/lib/python3.9/site-packages/IPython/core/interactiveshell.py:3465: UserWarning: To exit: use 'exit', 'quit', or Ctrl-D.\n",
      "  warn(\"To exit: use 'exit', 'quit', or Ctrl-D.\", stacklevel=1)\n"
     ]
    }
   ],
   "source": [
    "# 윈도우 메뉴 생성 (수동)\n",
    "import sys\n",
    "from PyQt5.QtWidgets import QApplication, QMainWindow, QAction, qApp\n",
    "from PyQt5.QtGui import QIcon\n",
    "\n",
    "class MyApp(QMainWindow):\n",
    "\n",
    "    def __init__(self):\n",
    "        super().__init__()\n",
    "        self.initUI()\n",
    "\n",
    "    def initUI(self):\n",
    "        exitAction = QAction(QIcon('exit.png'), 'Exit', self)\n",
    "        exitAction.setShortcut('Ctrl+Q')\n",
    "        exitAction.setStatusTip('Exit application')\n",
    "        exitAction.triggered.connect(qApp.quit)\n",
    "\n",
    "        self.statusBar()\n",
    "\n",
    "        menubar = self.menuBar()\n",
    "        menubar.setNativeMenuBar(False)\n",
    "        filemenu = menubar.addMenu('&File')\n",
    "        filemenu.addAction(exitAction)\n",
    "\n",
    "        self.setWindowTitle('Menubar')\n",
    "        self.setGeometry(300, 300, 300, 200)\n",
    "        self.show()\n",
    "\n",
    "if __name__ == '__main__':\n",
    "    app = QApplication(sys.argv)\n",
    "    ex = MyApp()\n",
    "    sys.exit(app.exec_())"
   ]
  },
  {
   "cell_type": "code",
   "execution_count": 1,
   "metadata": {},
   "outputs": [
    {
     "data": {
      "text/plain": [
       "0"
      ]
     },
     "execution_count": 1,
     "metadata": {},
     "output_type": "execute_result"
    }
   ],
   "source": [
    "# Qt Designer로 생성한 윈도우 여는 방법\n",
    "import sys\n",
    "from PyQt5.QtWidgets import *\n",
    "from PyQt5 import uic\n",
    "\n",
    "form_class = uic.loadUiType('mywindow.ui')[0]\n",
    "\n",
    "class MyWindow(QMainWindow, form_class):\n",
    "    def __init__(self):\n",
    "        super().__init__()\n",
    "        self.setupUi(self)\n",
    "\n",
    "app = QApplication(sys.argv)\n",
    "window = MyWindow()\n",
    "window.show()\n",
    "app.exec_()"
   ]
  },
  {
   "cell_type": "code",
   "execution_count": 2,
   "metadata": {},
   "outputs": [
    {
     "name": "stdout",
     "output_type": "stream",
     "text": [
      "클릭 확인\n"
     ]
    }
   ],
   "source": [
    "# 버튼 1개 인식 \n",
    "import sys\n",
    "from PyQt5.QtWidgets import *\n",
    "from PyQt5 import uic\n",
    "\n",
    "form_class = uic.loadUiType('mywindow.ui')[0]\n",
    "\n",
    "class MyWindow(QMainWindow, form_class):\n",
    "    def __init__(self):\n",
    "        super().__init__()\n",
    "        self.setupUi(self)\n",
    "        self.pushButton.clicked.connect(self.btn_clicked)\n",
    "\n",
    "    def btn_clicked(self):\n",
    "        print('클릭 확인')\n",
    "\n",
    "app = QApplication(sys.argv)\n",
    "window = MyWindow()\n",
    "window.show()\n",
    "app.exec_()"
   ]
  },
  {
   "cell_type": "code",
   "execution_count": 2,
   "metadata": {},
   "outputs": [
    {
     "name": "stdout",
     "output_type": "stream",
     "text": [
      "2 클릭 확인\n",
      "1 클릭 확인\n",
      "1 클릭 확인\n",
      "2 클릭 확인\n"
     ]
    },
    {
     "data": {
      "text/plain": [
       "0"
      ]
     },
     "execution_count": 2,
     "metadata": {},
     "output_type": "execute_result"
    }
   ],
   "source": [
    "# 버튼 2개 인식 \n",
    "import sys\n",
    "from PyQt5.QtWidgets import *\n",
    "from PyQt5 import uic\n",
    "\n",
    "form_class = uic.loadUiType('mywindow.ui')[0]\n",
    "\n",
    "class MyWindow(QMainWindow, form_class):\n",
    "    def __init__(self):\n",
    "        super().__init__()\n",
    "        self.setupUi(self)\n",
    "        self.pushButton_1.clicked.connect(self.btn1_clicked)\n",
    "        self.pushButton_2.clicked.connect(self.btn2_clicked)\n",
    "\n",
    "    def btn1_clicked(self):\n",
    "        print('1 클릭 확인')\n",
    "    \n",
    "    def btn2_clicked(self):\n",
    "        print('2 클릭 확인')\n",
    "\n",
    "app = QApplication(sys.argv)\n",
    "window = MyWindow()\n",
    "window.show()\n",
    "app.exec_()"
   ]
  },
  {
   "cell_type": "code",
   "execution_count": 3,
   "metadata": {},
   "outputs": [
    {
     "name": "stdout",
     "output_type": "stream",
     "text": [
      "radio button 1 checked\n",
      "radio button 3 checked\n",
      "radio button 2 checked\n"
     ]
    },
    {
     "data": {
      "text/plain": [
       "0"
      ]
     },
     "execution_count": 3,
     "metadata": {},
     "output_type": "execute_result"
    }
   ],
   "source": [
    "# radio 버튼 인식 \n",
    "import sys\n",
    "from PyQt5.QtWidgets import *\n",
    "from PyQt5 import uic\n",
    "\n",
    "form_class = uic.loadUiType('mywindow.ui')[0]\n",
    "\n",
    "class MyWindow(QMainWindow, form_class):\n",
    "    def __init__(self):\n",
    "        super().__init__()\n",
    "        self.setupUi(self)\n",
    "\n",
    "        self.radioButton_1.clicked.connect(self.radioFunction)\n",
    "        self.radioButton_2.clicked.connect(self.radioFunction)\n",
    "        self.radioButton_3.clicked.connect(self.radioFunction)\n",
    "\n",
    "    def radioFunction(self): # 한 개만 선택 가능 \n",
    "        if self.radioButton_1.isChecked():\n",
    "            print('radio button 1 checked')\n",
    "        elif self.radioButton_2.isChecked():\n",
    "            print('radio button 2 checked')\n",
    "        elif self.radioButton_3.isChecked():\n",
    "            print('radio button 3 checked')\n",
    "\n",
    "app = QApplication(sys.argv)\n",
    "window = MyWindow()\n",
    "window.show()\n",
    "app.exec_()"
   ]
  },
  {
   "cell_type": "code",
   "execution_count": 2,
   "metadata": {},
   "outputs": [
    {
     "name": "stdout",
     "output_type": "stream",
     "text": [
      "checkBox_1 checked\n",
      "\n",
      "check3 checked\n",
      "\n",
      "checkBox_1 checked\n",
      "checkBox_3 checked\n",
      "\n",
      "check2 checked\n",
      "check3 checked\n",
      "\n",
      "check1 checked\n",
      "check2 checked\n",
      "check3 checked\n",
      "\n",
      "checkBox_1 checked\n",
      "checkBox_2 checked\n",
      "checkBox_3 checked\n",
      "\n"
     ]
    },
    {
     "data": {
      "text/plain": [
       "0"
      ]
     },
     "execution_count": 2,
     "metadata": {},
     "output_type": "execute_result"
    }
   ],
   "source": [
    "# checkbox 인식 \n",
    "import sys\n",
    "from PyQt5.QtWidgets import *\n",
    "from PyQt5 import uic\n",
    "\n",
    "form_class = uic.loadUiType('mywindow.ui')[0]\n",
    "\n",
    "class MyWindow(QMainWindow, form_class):\n",
    "    def __init__(self):\n",
    "        super().__init__()\n",
    "        self.setupUi(self)\n",
    "\n",
    "        self.check1.stateChanged.connect(self.chkFunction)\n",
    "        self.check2.stateChanged.connect(self.chkFunction)\n",
    "        self.check3.stateChanged.connect(self.chkFunction)\n",
    "\n",
    "        self.checkBox_1.stateChanged.connect(self.chkBoxFunction)\n",
    "        self.checkBox_2.stateChanged.connect(self.chkBoxFunction)\n",
    "        self.checkBox_3.stateChanged.connect(self.chkBoxFunction)\n",
    "\n",
    "    def chkFunction(self): # 여러개 선택 가능 \n",
    "        if self.check1.isChecked():\n",
    "            print('check1 checked')\n",
    "        if self.check2.isChecked():\n",
    "            print('check2 checked')\n",
    "        if self.check3.isChecked():\n",
    "            print('check3 checked')\n",
    "        print()\n",
    "\n",
    "    def chkBoxFunction(self):\n",
    "        if self.checkBox_1.isChecked():\n",
    "            print('checkBox_1 checked')\n",
    "        if self.checkBox_2.isChecked():\n",
    "            print('checkBox_2 checked')\n",
    "        if self.checkBox_3.isChecked():\n",
    "            print('checkBox_3 checked')\n",
    "        print()\n",
    "\n",
    "app = QApplication(sys.argv)\n",
    "window = MyWindow()\n",
    "window.show()\n",
    "app.exec_()"
   ]
  },
  {
   "cell_type": "code",
   "execution_count": 1,
   "metadata": {},
   "outputs": [
    {
     "data": {
      "text/plain": [
       "0"
      ]
     },
     "execution_count": 1,
     "metadata": {},
     "output_type": "execute_result"
    }
   ],
   "source": [
    "# Label\n",
    "import sys\n",
    "from PyQt5.QtWidgets import *\n",
    "from PyQt5 import uic\n",
    "\n",
    "form_class = uic.loadUiType('mywindow.ui')[0]\n",
    "\n",
    "class MyWindow(QMainWindow, form_class):\n",
    "    def __init__(self):\n",
    "        super().__init__()\n",
    "        self.setupUi(self)\n",
    "\n",
    "        self.MelonButton.clicked.connect(self.melonFunction)\n",
    "        self.GenieButton.clicked.connect(self.genieFunction)\n",
    "\n",
    "    def melonFunction(self):\n",
    "        self.label.setText('멜론 차트 조회')\n",
    "\n",
    "    def genieFunction(self):\n",
    "        self.label.setText('지니 차트 조회')\n",
    "\n",
    "app = QApplication(sys.argv)\n",
    "window = MyWindow()\n",
    "window.show()\n",
    "app.exec_()"
   ]
  },
  {
   "cell_type": "code",
   "execution_count": 1,
   "metadata": {},
   "outputs": [
    {
     "name": "stdout",
     "output_type": "stream",
     "text": [
      "지니 차트 조회\n",
      "\n"
     ]
    },
    {
     "data": {
      "text/plain": [
       "0"
      ]
     },
     "execution_count": 1,
     "metadata": {},
     "output_type": "execute_result"
    }
   ],
   "source": [
    "# \n",
    "import sys\n",
    "from PyQt5.QtWidgets import *\n",
    "from PyQt5 import uic\n",
    "\n",
    "form_class = uic.loadUiType('mywindow.ui')[0]\n",
    "\n",
    "class MyWindow(QMainWindow, form_class):\n",
    "    def __init__(self):\n",
    "        super().__init__()\n",
    "        self.setupUi(self)\n",
    "\n",
    "        self.MelonButton.clicked.connect(self.melonFunction)\n",
    "        self.GenieButton.clicked.connect(self.genieFunction)\n",
    "        self.deleteButton.clicked.connect(self.deleteFunction)\n",
    "        self.printButton.clicked.connect(self.printFunction)\n",
    "\n",
    "    def melonFunction(self):\n",
    "        self.label.setText('멜론 차트 조회')\n",
    "\n",
    "    def genieFunction(self):\n",
    "        self.label.setText('지니 차트 조회')\n",
    "\n",
    "    def deleteFunction(self):\n",
    "        self.label.clear()\n",
    "\n",
    "    def printFunction(self):\n",
    "        print(self.label.text())\n",
    "\n",
    "app = QApplication(sys.argv)\n",
    "window = MyWindow()\n",
    "window.show()\n",
    "app.exec_()"
   ]
  },
  {
   "cell_type": "code",
   "execution_count": 2,
   "metadata": {},
   "outputs": [
    {
     "name": "stdout",
     "output_type": "stream",
     "text": [
      "텍스트 브라우저 글자 변경 테스트\n",
      "텍스트 추가 테스트\n"
     ]
    },
    {
     "data": {
      "text/plain": [
       "0"
      ]
     },
     "execution_count": 2,
     "metadata": {},
     "output_type": "execute_result"
    }
   ],
   "source": [
    "# text browser\n",
    "import sys\n",
    "from PyQt5.QtWidgets import *\n",
    "from PyQt5 import uic\n",
    "\n",
    "form_class = uic.loadUiType('mywindow.ui')[0]\n",
    "\n",
    "class MyWindow(QMainWindow, form_class):\n",
    "    def __init__(self):\n",
    "        super().__init__()\n",
    "        self.setupUi(self)\n",
    "\n",
    "        self.PrintBrowserButton.clicked.connect(self.printBrowserFunction)\n",
    "        self.SetTextBrowserButton.clicked.connect(self.SetTextBrowserFunction)\n",
    "        self.AppendTextBrowserButton.clicked.connect(self.AppendTextBrowserFunction)\n",
    "        self.ClearBrowserButton.clicked.connect(self.ClearBrowserFunction)\n",
    "\n",
    "    def printBrowserFunction(self):\n",
    "        print(self.textBrowser.toPlainText())\n",
    "\n",
    "    def SetTextBrowserFunction(self):\n",
    "        self.textBrowser.setPlainText('텍스트 브라우저 글자 변경 테스트')\n",
    "\n",
    "    def AppendTextBrowserFunction(self):\n",
    "        self.textBrowser.append('텍스트 추가 테스트')\n",
    "\n",
    "    def ClearBrowserFunction(self):\n",
    "        self.textBrowser.clear()\n",
    "\n",
    "app = QApplication(sys.argv)\n",
    "window = MyWindow()\n",
    "window.show()\n",
    "app.exec_()"
   ]
  },
  {
   "cell_type": "code",
   "execution_count": 1,
   "metadata": {},
   "outputs": [
    {
     "data": {
      "text/plain": [
       "0"
      ]
     },
     "execution_count": 1,
     "metadata": {},
     "output_type": "execute_result"
    }
   ],
   "source": [
    "# Line\n",
    "import sys\n",
    "from PyQt5.QtWidgets import *\n",
    "from PyQt5 import uic\n",
    "\n",
    "form_class = uic.loadUiType('mywindow.ui')[0]\n",
    "\n",
    "class MyWindow(QMainWindow, form_class):\n",
    "    def __init__(self):\n",
    "        super().__init__()\n",
    "        self.setupUi(self)\n",
    "\n",
    "        self.lineEdit.textChanged.connect(self.lineeditFunction)\n",
    "        self.lineEdit.returnPressed.connect(self.returnFunction)\n",
    "        self.lineEditButton.clicked.connect(self.changeFunction)\n",
    "\n",
    "    def lineeditFunction(self):\n",
    "        self.label_text.setText(self.lineEdit.text())\n",
    "\n",
    "    def returnFunction(self):\n",
    "        print(self.lineEdit.text())\n",
    "\n",
    "    def changeFunction(self):\n",
    "        self.lineEdit.setText('글자 변경')\n",
    "\n",
    "app = QApplication(sys.argv)\n",
    "window = MyWindow()\n",
    "window.show()\n",
    "app.exec_()"
   ]
  }
 ],
 "metadata": {
  "kernelspec": {
   "display_name": "base",
   "language": "python",
   "name": "python3"
  },
  "language_info": {
   "codemirror_mode": {
    "name": "ipython",
    "version": 3
   },
   "file_extension": ".py",
   "mimetype": "text/x-python",
   "name": "python",
   "nbconvert_exporter": "python",
   "pygments_lexer": "ipython3",
   "version": "3.9.13"
  },
  "orig_nbformat": 4
 },
 "nbformat": 4,
 "nbformat_minor": 2
}
