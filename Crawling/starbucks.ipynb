{
 "cells": [
  {
   "cell_type": "code",
   "execution_count": 1,
   "metadata": {},
   "outputs": [],
   "source": [
    "import requests\n",
    "from bs4 import BeautifulSoup as bs\n",
    "import pandas as pd"
   ]
  },
  {
   "cell_type": "code",
   "execution_count": null,
   "metadata": {},
   "outputs": [],
   "source": [
    "url = \"https://www.starbucks.co.kr/store/store_map.do\"\n",
    "html = bs(requests.get(url).text)\n",
    "\n",
    "\n",
    "songs50 = html1.select('tbody > tr')\n",
    "songs100 = html2.select('tbody > tr')\n",
    "song_data = []\n",
    "rank = 1\n",
    "for song in songs50:\n",
    "    title = song.select('a.title')[0].text.strip()\n",
    "    singer = song.select('a.artist')[0].text\n",
    "    song_data.append(['Genie',rank,title,singer])\n",
    "    rank += 1\n",
    "rank = 51\n",
    "for song in songs100:\n",
    "    title = song.select('a.title')[0].text.strip()\n",
    "    singer = song.select('a.artist')[0].text\n",
    "    song_data.append(['Genie',rank,title,singer])\n",
    "    rank += 1\n",
    "\n",
    "df = pd.DataFrame(song_data, columns=['서비스','순위','타이틀','가수'])\n",
    "df.to_excel('genie.xlsx',index=False)"
   ]
  },
  {
   "cell_type": "code",
   "execution_count": 3,
   "metadata": {},
   "outputs": [],
   "source": [
    "url = \"javascript:void(0);\"\n",
    "html = bs(requests.get(url).text)"
   ]
  },
  {
   "cell_type": "code",
   "execution_count": 36,
   "metadata": {},
   "outputs": [
    {
     "data": {
      "text/plain": [
       "2"
      ]
     },
     "execution_count": 36,
     "metadata": {},
     "output_type": "execute_result"
    }
   ],
   "source": [
    "len(html.find('li, div.loca_step1'))\n",
    "# len(html.select('div.loca_step3>div.result_list_wrap>ul>li'))\n",
    "# divs = html.select('div')\n",
    "# print(divs)"
   ]
  }
 ],
 "metadata": {
  "kernelspec": {
   "display_name": "base",
   "language": "python",
   "name": "python3"
  },
  "language_info": {
   "codemirror_mode": {
    "name": "ipython",
    "version": 3
   },
   "file_extension": ".py",
   "mimetype": "text/x-python",
   "name": "python",
   "nbconvert_exporter": "python",
   "pygments_lexer": "ipython3",
   "version": "3.9.13"
  },
  "orig_nbformat": 4,
  "vscode": {
   "interpreter": {
    "hash": "409e29e85da957a2d68492a1ac74d12c54e5caeffaa68e6bc72e4564403ccddc"
   }
  }
 },
 "nbformat": 4,
 "nbformat_minor": 2
}
