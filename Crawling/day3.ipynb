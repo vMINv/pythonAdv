{
 "cells": [
  {
   "cell_type": "code",
   "execution_count": 1,
   "metadata": {},
   "outputs": [],
   "source": [
    "import requests\n",
    "from bs4 import BeautifulSoup as bs"
   ]
  },
  {
   "cell_type": "code",
   "execution_count": 58,
   "metadata": {},
   "outputs": [],
   "source": [
    "url = \"https://finance.naver.com/item/main.nhn?code=005930\"\n",
    "html = bs(requests.get(url).text)"
   ]
  },
  {
   "cell_type": "code",
   "execution_count": 59,
   "metadata": {},
   "outputs": [
    {
     "data": {
      "text/plain": [
       "'61,600'"
      ]
     },
     "execution_count": 59,
     "metadata": {},
     "output_type": "execute_result"
    }
   ],
   "source": [
    "html.select('em.no_up>span.blind')[0].text"
   ]
  },
  {
   "cell_type": "code",
   "execution_count": 67,
   "metadata": {},
   "outputs": [
    {
     "data": {
      "text/html": [
       "<div>\n",
       "<style scoped>\n",
       "    .dataframe tbody tr th:only-of-type {\n",
       "        vertical-align: middle;\n",
       "    }\n",
       "\n",
       "    .dataframe tbody tr th {\n",
       "        vertical-align: top;\n",
       "    }\n",
       "\n",
       "    .dataframe thead th {\n",
       "        text-align: right;\n",
       "    }\n",
       "</style>\n",
       "<table border=\"1\" class=\"dataframe\">\n",
       "  <thead>\n",
       "    <tr style=\"text-align: right;\">\n",
       "      <th></th>\n",
       "      <th>시가</th>\n",
       "      <th>고가</th>\n",
       "      <th>저가</th>\n",
       "      <th>종가</th>\n",
       "      <th>거래량</th>\n",
       "      <th>거래대금</th>\n",
       "      <th>등락률</th>\n",
       "    </tr>\n",
       "    <tr>\n",
       "      <th>날짜</th>\n",
       "      <th></th>\n",
       "      <th></th>\n",
       "      <th></th>\n",
       "      <th></th>\n",
       "      <th></th>\n",
       "      <th></th>\n",
       "      <th></th>\n",
       "    </tr>\n",
       "  </thead>\n",
       "  <tbody>\n",
       "    <tr>\n",
       "      <th>2023-02-01</th>\n",
       "      <td>62600</td>\n",
       "      <td>62700</td>\n",
       "      <td>61000</td>\n",
       "      <td>61800</td>\n",
       "      <td>18570133</td>\n",
       "      <td>1145781815984</td>\n",
       "      <td>1.31</td>\n",
       "    </tr>\n",
       "    <tr>\n",
       "      <th>2023-02-02</th>\n",
       "      <td>63200</td>\n",
       "      <td>63900</td>\n",
       "      <td>62600</td>\n",
       "      <td>63500</td>\n",
       "      <td>23285983</td>\n",
       "      <td>1474629229812</td>\n",
       "      <td>2.75</td>\n",
       "    </tr>\n",
       "    <tr>\n",
       "      <th>2023-02-03</th>\n",
       "      <td>63900</td>\n",
       "      <td>64000</td>\n",
       "      <td>63000</td>\n",
       "      <td>63800</td>\n",
       "      <td>15194598</td>\n",
       "      <td>967336146677</td>\n",
       "      <td>0.47</td>\n",
       "    </tr>\n",
       "    <tr>\n",
       "      <th>2023-02-06</th>\n",
       "      <td>62800</td>\n",
       "      <td>63000</td>\n",
       "      <td>61600</td>\n",
       "      <td>61600</td>\n",
       "      <td>15529356</td>\n",
       "      <td>967890468300</td>\n",
       "      <td>-3.45</td>\n",
       "    </tr>\n",
       "    <tr>\n",
       "      <th>2023-02-07</th>\n",
       "      <td>61900</td>\n",
       "      <td>62500</td>\n",
       "      <td>61600</td>\n",
       "      <td>61900</td>\n",
       "      <td>14491039</td>\n",
       "      <td>898617000700</td>\n",
       "      <td>0.49</td>\n",
       "    </tr>\n",
       "    <tr>\n",
       "      <th>2023-02-08</th>\n",
       "      <td>62800</td>\n",
       "      <td>63300</td>\n",
       "      <td>62400</td>\n",
       "      <td>63100</td>\n",
       "      <td>12243125</td>\n",
       "      <td>770472521000</td>\n",
       "      <td>1.94</td>\n",
       "    </tr>\n",
       "    <tr>\n",
       "      <th>2023-02-09</th>\n",
       "      <td>63000</td>\n",
       "      <td>63300</td>\n",
       "      <td>62300</td>\n",
       "      <td>63000</td>\n",
       "      <td>12164865</td>\n",
       "      <td>764921355400</td>\n",
       "      <td>-0.16</td>\n",
       "    </tr>\n",
       "    <tr>\n",
       "      <th>2023-02-10</th>\n",
       "      <td>62600</td>\n",
       "      <td>63000</td>\n",
       "      <td>62400</td>\n",
       "      <td>62800</td>\n",
       "      <td>9382576</td>\n",
       "      <td>587897501100</td>\n",
       "      <td>-0.32</td>\n",
       "    </tr>\n",
       "    <tr>\n",
       "      <th>2023-02-13</th>\n",
       "      <td>62900</td>\n",
       "      <td>63000</td>\n",
       "      <td>62300</td>\n",
       "      <td>62900</td>\n",
       "      <td>10730362</td>\n",
       "      <td>672253190500</td>\n",
       "      <td>0.16</td>\n",
       "    </tr>\n",
       "    <tr>\n",
       "      <th>2023-02-14</th>\n",
       "      <td>63600</td>\n",
       "      <td>63900</td>\n",
       "      <td>63200</td>\n",
       "      <td>63200</td>\n",
       "      <td>9126664</td>\n",
       "      <td>579858006300</td>\n",
       "      <td>0.48</td>\n",
       "    </tr>\n",
       "    <tr>\n",
       "      <th>2023-02-15</th>\n",
       "      <td>63900</td>\n",
       "      <td>63900</td>\n",
       "      <td>62000</td>\n",
       "      <td>62200</td>\n",
       "      <td>13208103</td>\n",
       "      <td>826031235400</td>\n",
       "      <td>-1.58</td>\n",
       "    </tr>\n",
       "    <tr>\n",
       "      <th>2023-02-16</th>\n",
       "      <td>62500</td>\n",
       "      <td>63700</td>\n",
       "      <td>62400</td>\n",
       "      <td>63700</td>\n",
       "      <td>13798831</td>\n",
       "      <td>873759607962</td>\n",
       "      <td>2.41</td>\n",
       "    </tr>\n",
       "    <tr>\n",
       "      <th>2023-02-17</th>\n",
       "      <td>62900</td>\n",
       "      <td>63300</td>\n",
       "      <td>62400</td>\n",
       "      <td>62600</td>\n",
       "      <td>10791265</td>\n",
       "      <td>677809979471</td>\n",
       "      <td>-1.73</td>\n",
       "    </tr>\n",
       "    <tr>\n",
       "      <th>2023-02-20</th>\n",
       "      <td>62900</td>\n",
       "      <td>63000</td>\n",
       "      <td>61800</td>\n",
       "      <td>62700</td>\n",
       "      <td>12908073</td>\n",
       "      <td>806198780800</td>\n",
       "      <td>0.16</td>\n",
       "    </tr>\n",
       "    <tr>\n",
       "      <th>2023-02-21</th>\n",
       "      <td>62700</td>\n",
       "      <td>62800</td>\n",
       "      <td>62000</td>\n",
       "      <td>62100</td>\n",
       "      <td>7665046</td>\n",
       "      <td>476711896776</td>\n",
       "      <td>-0.96</td>\n",
       "    </tr>\n",
       "    <tr>\n",
       "      <th>2023-02-22</th>\n",
       "      <td>61500</td>\n",
       "      <td>61800</td>\n",
       "      <td>61000</td>\n",
       "      <td>61100</td>\n",
       "      <td>11959088</td>\n",
       "      <td>732238903100</td>\n",
       "      <td>-1.61</td>\n",
       "    </tr>\n",
       "    <tr>\n",
       "      <th>2023-02-23</th>\n",
       "      <td>61700</td>\n",
       "      <td>62500</td>\n",
       "      <td>61500</td>\n",
       "      <td>62000</td>\n",
       "      <td>13047099</td>\n",
       "      <td>809465376980</td>\n",
       "      <td>1.47</td>\n",
       "    </tr>\n",
       "    <tr>\n",
       "      <th>2023-02-24</th>\n",
       "      <td>62300</td>\n",
       "      <td>62600</td>\n",
       "      <td>61300</td>\n",
       "      <td>61300</td>\n",
       "      <td>10308143</td>\n",
       "      <td>638634052687</td>\n",
       "      <td>-1.13</td>\n",
       "    </tr>\n",
       "    <tr>\n",
       "      <th>2023-02-27</th>\n",
       "      <td>60800</td>\n",
       "      <td>60800</td>\n",
       "      <td>60200</td>\n",
       "      <td>60500</td>\n",
       "      <td>11155697</td>\n",
       "      <td>674292520900</td>\n",
       "      <td>-1.31</td>\n",
       "    </tr>\n",
       "    <tr>\n",
       "      <th>2023-02-28</th>\n",
       "      <td>60800</td>\n",
       "      <td>61400</td>\n",
       "      <td>60500</td>\n",
       "      <td>60600</td>\n",
       "      <td>13715861</td>\n",
       "      <td>834902635220</td>\n",
       "      <td>0.17</td>\n",
       "    </tr>\n",
       "  </tbody>\n",
       "</table>\n",
       "</div>"
      ],
      "text/plain": [
       "               시가     고가     저가     종가       거래량           거래대금   등락률\n",
       "날짜                                                                   \n",
       "2023-02-01  62600  62700  61000  61800  18570133  1145781815984  1.31\n",
       "2023-02-02  63200  63900  62600  63500  23285983  1474629229812  2.75\n",
       "2023-02-03  63900  64000  63000  63800  15194598   967336146677  0.47\n",
       "2023-02-06  62800  63000  61600  61600  15529356   967890468300 -3.45\n",
       "2023-02-07  61900  62500  61600  61900  14491039   898617000700  0.49\n",
       "2023-02-08  62800  63300  62400  63100  12243125   770472521000  1.94\n",
       "2023-02-09  63000  63300  62300  63000  12164865   764921355400 -0.16\n",
       "2023-02-10  62600  63000  62400  62800   9382576   587897501100 -0.32\n",
       "2023-02-13  62900  63000  62300  62900  10730362   672253190500  0.16\n",
       "2023-02-14  63600  63900  63200  63200   9126664   579858006300  0.48\n",
       "2023-02-15  63900  63900  62000  62200  13208103   826031235400 -1.58\n",
       "2023-02-16  62500  63700  62400  63700  13798831   873759607962  2.41\n",
       "2023-02-17  62900  63300  62400  62600  10791265   677809979471 -1.73\n",
       "2023-02-20  62900  63000  61800  62700  12908073   806198780800  0.16\n",
       "2023-02-21  62700  62800  62000  62100   7665046   476711896776 -0.96\n",
       "2023-02-22  61500  61800  61000  61100  11959088   732238903100 -1.61\n",
       "2023-02-23  61700  62500  61500  62000  13047099   809465376980  1.47\n",
       "2023-02-24  62300  62600  61300  61300  10308143   638634052687 -1.13\n",
       "2023-02-27  60800  60800  60200  60500  11155697   674292520900 -1.31\n",
       "2023-02-28  60800  61400  60500  60600  13715861   834902635220  0.17"
      ]
     },
     "execution_count": 67,
     "metadata": {},
     "output_type": "execute_result"
    }
   ],
   "source": [
    "# !pip install pykrx # 주가 조회 모듈 \n",
    "from pykrx import stock\n",
    "stock.get_market_ohlcv('20230201', '20230228', '005930')"
   ]
  },
  {
   "cell_type": "code",
   "execution_count": 68,
   "metadata": {},
   "outputs": [
    {
     "name": "stdout",
     "output_type": "stream",
     "text": [
      "[*********************100%***********************]  1 of 1 completed\n"
     ]
    },
    {
     "data": {
      "text/html": [
       "<div>\n",
       "<style scoped>\n",
       "    .dataframe tbody tr th:only-of-type {\n",
       "        vertical-align: middle;\n",
       "    }\n",
       "\n",
       "    .dataframe tbody tr th {\n",
       "        vertical-align: top;\n",
       "    }\n",
       "\n",
       "    .dataframe thead th {\n",
       "        text-align: right;\n",
       "    }\n",
       "</style>\n",
       "<table border=\"1\" class=\"dataframe\">\n",
       "  <thead>\n",
       "    <tr style=\"text-align: right;\">\n",
       "      <th></th>\n",
       "      <th>Open</th>\n",
       "      <th>High</th>\n",
       "      <th>Low</th>\n",
       "      <th>Close</th>\n",
       "      <th>Adj Close</th>\n",
       "      <th>Volume</th>\n",
       "    </tr>\n",
       "    <tr>\n",
       "      <th>Date</th>\n",
       "      <th></th>\n",
       "      <th></th>\n",
       "      <th></th>\n",
       "      <th></th>\n",
       "      <th></th>\n",
       "      <th></th>\n",
       "    </tr>\n",
       "  </thead>\n",
       "  <tbody>\n",
       "    <tr>\n",
       "      <th>2023-02-28</th>\n",
       "      <td>147.050003</td>\n",
       "      <td>149.080002</td>\n",
       "      <td>146.830002</td>\n",
       "      <td>147.410004</td>\n",
       "      <td>147.410004</td>\n",
       "      <td>50547000</td>\n",
       "    </tr>\n",
       "    <tr>\n",
       "      <th>2023-03-01</th>\n",
       "      <td>146.830002</td>\n",
       "      <td>147.228500</td>\n",
       "      <td>145.009995</td>\n",
       "      <td>145.309998</td>\n",
       "      <td>145.309998</td>\n",
       "      <td>51688609</td>\n",
       "    </tr>\n",
       "  </tbody>\n",
       "</table>\n",
       "</div>"
      ],
      "text/plain": [
       "                  Open        High         Low       Close   Adj Close  \\\n",
       "Date                                                                     \n",
       "2023-02-28  147.050003  149.080002  146.830002  147.410004  147.410004   \n",
       "2023-03-01  146.830002  147.228500  145.009995  145.309998  145.309998   \n",
       "\n",
       "              Volume  \n",
       "Date                  \n",
       "2023-02-28  50547000  \n",
       "2023-03-01  51688609  "
      ]
     },
     "execution_count": 68,
     "metadata": {},
     "output_type": "execute_result"
    }
   ],
   "source": [
    "#!pip install yfinance\n",
    "import yfinance as yf\n",
    "yf.download('AAPL', start='2023-02-28')"
   ]
  },
  {
   "cell_type": "code",
   "execution_count": 69,
   "metadata": {},
   "outputs": [
    {
     "name": "stdout",
     "output_type": "stream",
     "text": [
      "[*********************100%***********************]  1 of 1 completed\n"
     ]
    },
    {
     "data": {
      "text/html": [
       "<div>\n",
       "<style scoped>\n",
       "    .dataframe tbody tr th:only-of-type {\n",
       "        vertical-align: middle;\n",
       "    }\n",
       "\n",
       "    .dataframe tbody tr th {\n",
       "        vertical-align: top;\n",
       "    }\n",
       "\n",
       "    .dataframe thead th {\n",
       "        text-align: right;\n",
       "    }\n",
       "</style>\n",
       "<table border=\"1\" class=\"dataframe\">\n",
       "  <thead>\n",
       "    <tr style=\"text-align: right;\">\n",
       "      <th></th>\n",
       "      <th>Open</th>\n",
       "      <th>High</th>\n",
       "      <th>Low</th>\n",
       "      <th>Close</th>\n",
       "      <th>Adj Close</th>\n",
       "      <th>Volume</th>\n",
       "    </tr>\n",
       "    <tr>\n",
       "      <th>Date</th>\n",
       "      <th></th>\n",
       "      <th></th>\n",
       "      <th></th>\n",
       "      <th></th>\n",
       "      <th></th>\n",
       "      <th></th>\n",
       "    </tr>\n",
       "  </thead>\n",
       "  <tbody>\n",
       "    <tr>\n",
       "      <th>2023-02-28</th>\n",
       "      <td>210.589996</td>\n",
       "      <td>211.229996</td>\n",
       "      <td>203.750000</td>\n",
       "      <td>205.710007</td>\n",
       "      <td>205.710007</td>\n",
       "      <td>153144900</td>\n",
       "    </tr>\n",
       "    <tr>\n",
       "      <th>2023-03-01</th>\n",
       "      <td>206.210007</td>\n",
       "      <td>207.198700</td>\n",
       "      <td>198.520401</td>\n",
       "      <td>202.770004</td>\n",
       "      <td>202.770004</td>\n",
       "      <td>147701973</td>\n",
       "    </tr>\n",
       "  </tbody>\n",
       "</table>\n",
       "</div>"
      ],
      "text/plain": [
       "                  Open        High         Low       Close   Adj Close  \\\n",
       "Date                                                                     \n",
       "2023-02-28  210.589996  211.229996  203.750000  205.710007  205.710007   \n",
       "2023-03-01  206.210007  207.198700  198.520401  202.770004  202.770004   \n",
       "\n",
       "               Volume  \n",
       "Date                   \n",
       "2023-02-28  153144900  \n",
       "2023-03-01  147701973  "
      ]
     },
     "execution_count": 69,
     "metadata": {},
     "output_type": "execute_result"
    }
   ],
   "source": [
    "yf.download('TSLA', start='2023-02-28')"
   ]
  },
  {
   "cell_type": "code",
   "execution_count": 97,
   "metadata": {},
   "outputs": [],
   "source": [
    "import requests\n",
    "\n",
    "url = \"https://api.bithumb.com/public/ticker/ALL_KRW\"\n",
    "\n",
    "headers = {\"accept\": \"application/json\"}\n",
    "\n",
    "response = requests.get(url, headers=headers)\n",
    "\n",
    "#print(response.text)"
   ]
  },
  {
   "cell_type": "code",
   "execution_count": 107,
   "metadata": {},
   "outputs": [
    {
     "name": "stderr",
     "output_type": "stream",
     "text": [
      "/var/folders/_j/xfcnlqrd2nn2csm0b_0f87hc0000gn/T/ipykernel_1134/1946711234.py:5: DeprecationWarning: executable_path has been deprecated, please pass in a Service object\n",
      "  driver = webdriver.Chrome('chromedriver.exe')\n"
     ]
    }
   ],
   "source": [
    "import requests\n",
    "from bs4 import BeautifulSoup as bs\n",
    "from selenium import webdriver\n",
    "\n",
    "driver = webdriver.Chrome('chromedriver.exe')\n",
    "url = \"https://www.bithumb.com/trade/order/BTC_KRW\"\n",
    "driver.get(url)\n",
    "txt = driver.page_source\n",
    "html = bs(txt)"
   ]
  },
  {
   "cell_type": "code",
   "execution_count": 108,
   "metadata": {},
   "outputs": [
    {
     "data": {
      "text/plain": [
       "'31,086,000'"
      ]
     },
     "execution_count": 108,
     "metadata": {},
     "output_type": "execute_result"
    }
   ],
   "source": [
    "html.select('div.current_price>h3')[0].text"
   ]
  },
  {
   "cell_type": "code",
   "execution_count": 99,
   "metadata": {},
   "outputs": [],
   "source": [
    "############### \n",
    "# Bithumb API #\n",
    "###############\n",
    "#!pip install pybithumb # 빗썸 제공 API\n",
    "import pybithumb as pb\n",
    "\n",
    "#pb.get_tickers() # 종목명 출력 \n",
    "len(pb.get_tickers())\n",
    "\n",
    "print(pb.get_current_price('BTC')) # 비트코인 가격 조회"
   ]
  },
  {
   "cell_type": "code",
   "execution_count": 124,
   "metadata": {},
   "outputs": [
    {
     "name": "stdout",
     "output_type": "stream",
     "text": [
      "31100000.0\n",
      "31100000.0\n",
      "31087000.0\n"
     ]
    },
    {
     "ename": "KeyboardInterrupt",
     "evalue": "",
     "output_type": "error",
     "traceback": [
      "\u001b[0;31m---------------------------------------------------------------------------\u001b[0m",
      "\u001b[0;31mKeyboardInterrupt\u001b[0m                         Traceback (most recent call last)",
      "\u001b[0;32m/var/folders/_j/xfcnlqrd2nn2csm0b_0f87hc0000gn/T/ipykernel_1134/3806061896.py\u001b[0m in \u001b[0;36m<module>\u001b[0;34m\u001b[0m\n\u001b[1;32m      3\u001b[0m \u001b[0;32mwhile\u001b[0m \u001b[0;32mTrue\u001b[0m\u001b[0;34m:\u001b[0m\u001b[0;34m\u001b[0m\u001b[0;34m\u001b[0m\u001b[0m\n\u001b[1;32m      4\u001b[0m     \u001b[0mprint\u001b[0m\u001b[0;34m(\u001b[0m\u001b[0mpb\u001b[0m\u001b[0;34m.\u001b[0m\u001b[0mget_current_price\u001b[0m\u001b[0;34m(\u001b[0m\u001b[0;34m'BTC'\u001b[0m\u001b[0;34m)\u001b[0m\u001b[0;34m)\u001b[0m \u001b[0;31m# 비트코인 가격 조회\u001b[0m\u001b[0;34m\u001b[0m\u001b[0;34m\u001b[0m\u001b[0m\n\u001b[0;32m----> 5\u001b[0;31m     \u001b[0mtime\u001b[0m\u001b[0;34m.\u001b[0m\u001b[0msleep\u001b[0m\u001b[0;34m(\u001b[0m\u001b[0;36m3\u001b[0m\u001b[0;34m)\u001b[0m\u001b[0;34m\u001b[0m\u001b[0;34m\u001b[0m\u001b[0m\n\u001b[0m",
      "\u001b[0;31mKeyboardInterrupt\u001b[0m: "
     ]
    }
   ],
   "source": [
    "# 비트코인 가격 반복 조회 \n",
    "import time\n",
    "while True:\n",
    "    print(pb.get_current_price('BTC')) # 비트코인 가격 조회\n",
    "    time.sleep(3)"
   ]
  },
  {
   "cell_type": "code",
   "execution_count": 125,
   "metadata": {},
   "outputs": [
    {
     "name": "stdout",
     "output_type": "stream",
     "text": [
      "BTC 31084000.0\n",
      "ETH 2181000.0\n",
      "ETC 27870.0\n",
      "XRP 501.4\n"
     ]
    },
    {
     "ename": "KeyboardInterrupt",
     "evalue": "",
     "output_type": "error",
     "traceback": [
      "\u001b[0;31m---------------------------------------------------------------------------\u001b[0m",
      "\u001b[0;31mKeyboardInterrupt\u001b[0m                         Traceback (most recent call last)",
      "\u001b[0;32m/var/folders/_j/xfcnlqrd2nn2csm0b_0f87hc0000gn/T/ipykernel_1134/101441563.py\u001b[0m in \u001b[0;36m<module>\u001b[0;34m\u001b[0m\n\u001b[1;32m      4\u001b[0m \u001b[0;32mfor\u001b[0m \u001b[0mticker\u001b[0m \u001b[0;32min\u001b[0m \u001b[0mtickers\u001b[0m\u001b[0;34m:\u001b[0m\u001b[0;34m\u001b[0m\u001b[0;34m\u001b[0m\u001b[0m\n\u001b[1;32m      5\u001b[0m     \u001b[0mprint\u001b[0m\u001b[0;34m(\u001b[0m\u001b[0mticker\u001b[0m\u001b[0;34m,\u001b[0m \u001b[0mpb\u001b[0m\u001b[0;34m.\u001b[0m\u001b[0mget_current_price\u001b[0m\u001b[0;34m(\u001b[0m\u001b[0mticker\u001b[0m\u001b[0;34m)\u001b[0m\u001b[0;34m)\u001b[0m\u001b[0;34m\u001b[0m\u001b[0;34m\u001b[0m\u001b[0m\n\u001b[0;32m----> 6\u001b[0;31m     \u001b[0mtime\u001b[0m\u001b[0;34m.\u001b[0m\u001b[0msleep\u001b[0m\u001b[0;34m(\u001b[0m\u001b[0;36m1\u001b[0m\u001b[0;34m)\u001b[0m \u001b[0;31m# 시간 지연\u001b[0m\u001b[0;34m\u001b[0m\u001b[0;34m\u001b[0m\u001b[0m\n\u001b[0m",
      "\u001b[0;31mKeyboardInterrupt\u001b[0m: "
     ]
    }
   ],
   "source": [
    "# 모든 코인 가격 조회\n",
    "tickers = pb.get_tickers()\n",
    "\n",
    "for ticker in tickers:\n",
    "    print(ticker, pb.get_current_price(ticker))\n",
    "    time.sleep(1) # 시간 지연 "
   ]
  },
  {
   "cell_type": "code",
   "execution_count": 126,
   "metadata": {},
   "outputs": [
    {
     "name": "stdout",
     "output_type": "stream",
     "text": [
      "(31180000.0, 31272000.0, 30937000.0, 31093000.0, 238.92958343)\n"
     ]
    }
   ],
   "source": [
    "# 자세한 코인 가격 조회\n",
    "print(pb.get_market_detail('BTC'))\n",
    "\n",
    "# 시가/고가/저가/종가(현재가)/거래량\n",
    "# 튜플로 리턴 "
   ]
  },
  {
   "cell_type": "code",
   "execution_count": 122,
   "metadata": {},
   "outputs": [
    {
     "name": "stdout",
     "output_type": "stream",
     "text": [
      "BTC (31180000.0, 31272000.0, 30937000.0, 31046000.0, 231.31268343)\n",
      "ETH (2180000.0, 2203000.0, 2169000.0, 2177000.0, 1891.82528367)\n",
      "ETC (27990.0, 28100.0, 27790.0, 27830.0, 19683.15415325)\n"
     ]
    },
    {
     "ename": "KeyboardInterrupt",
     "evalue": "",
     "output_type": "error",
     "traceback": [
      "\u001b[0;31m---------------------------------------------------------------------------\u001b[0m",
      "\u001b[0;31mKeyboardInterrupt\u001b[0m                         Traceback (most recent call last)",
      "\u001b[0;32m/var/folders/_j/xfcnlqrd2nn2csm0b_0f87hc0000gn/T/ipykernel_1134/1621397851.py\u001b[0m in \u001b[0;36m<module>\u001b[0;34m\u001b[0m\n\u001b[1;32m      4\u001b[0m \u001b[0;32mfor\u001b[0m \u001b[0mticker\u001b[0m \u001b[0;32min\u001b[0m \u001b[0mtickers\u001b[0m\u001b[0;34m:\u001b[0m\u001b[0;34m\u001b[0m\u001b[0;34m\u001b[0m\u001b[0m\n\u001b[1;32m      5\u001b[0m     \u001b[0mprint\u001b[0m\u001b[0;34m(\u001b[0m\u001b[0mticker\u001b[0m\u001b[0;34m,\u001b[0m \u001b[0mpb\u001b[0m\u001b[0;34m.\u001b[0m\u001b[0mget_market_detail\u001b[0m\u001b[0;34m(\u001b[0m\u001b[0mticker\u001b[0m\u001b[0;34m)\u001b[0m\u001b[0;34m)\u001b[0m\u001b[0;34m\u001b[0m\u001b[0;34m\u001b[0m\u001b[0m\n\u001b[0;32m----> 6\u001b[0;31m     \u001b[0mtime\u001b[0m\u001b[0;34m.\u001b[0m\u001b[0msleep\u001b[0m\u001b[0;34m(\u001b[0m\u001b[0;36m1\u001b[0m\u001b[0;34m)\u001b[0m\u001b[0;34m\u001b[0m\u001b[0;34m\u001b[0m\u001b[0m\n\u001b[0m",
      "\u001b[0;31mKeyboardInterrupt\u001b[0m: "
     ]
    }
   ],
   "source": [
    "# 모든 코인 가격 자세히 조회\n",
    "tickers = pb.get_tickers()\n",
    "\n",
    "for ticker in tickers:\n",
    "    print(ticker, pb.get_market_detail(ticker))\n",
    "    time.sleep(1)\n"
   ]
  },
  {
   "cell_type": "code",
   "execution_count": 123,
   "metadata": {},
   "outputs": [
    {
     "name": "stdout",
     "output_type": "stream",
     "text": [
      "BTC (31180000.0, 31272000.0, 30937000.0, 31096000.0, 235.90558343)\n",
      "ETH (2180000.0, 2203000.0, 2169000.0, 2181000.0, 1917.26478367)\n",
      "ETC (27990.0, 28100.0, 27790.0, 27880.0, 20065.47505325)\n",
      "예외가 발생 되었습니다.\n"
     ]
    }
   ],
   "source": [
    "# 네트워크 이용시 예외 발생 빈도가 높다\n",
    "# 1. time.sleep 이용한 시간 지연 \n",
    "# 2. try except 이용한 예외 처리 \n",
    "\n",
    "tickers = pb.get_tickers()\n",
    "\n",
    "try :\n",
    "    for ticker in tickers:\n",
    "        print(ticker, pb.get_market_detail(ticker))\n",
    "        time.sleep(1) # 1\n",
    "except :\n",
    "    print('예외가 발생 되었습니다.') # 2"
   ]
  },
  {
   "cell_type": "code",
   "execution_count": null,
   "metadata": {},
   "outputs": [],
   "source": [
    "# 상승장 하락장 알림 프로그램\n",
    "# 이동 평균성 사용 : 이동 평균 값보다 현재가가 높다면 상승장\n",
    "# 이동 평균 값보다 현재가가 낮으면 하락장\n",
    "\n",
    "# 03/01 1000\n",
    "# 03/02 1100\n",
    "# 03/03 1200\n",
    "# 03/04 1100\n",
    "# 03/05 1000\n",
    "\n",
    "# 03/06 1400 > 상승장 \n",
    "# 03/06 1000 > 하락장  "
   ]
  },
  {
   "cell_type": "code",
   "execution_count": 127,
   "metadata": {},
   "outputs": [
    {
     "data": {
      "text/html": [
       "<div>\n",
       "<style scoped>\n",
       "    .dataframe tbody tr th:only-of-type {\n",
       "        vertical-align: middle;\n",
       "    }\n",
       "\n",
       "    .dataframe tbody tr th {\n",
       "        vertical-align: top;\n",
       "    }\n",
       "\n",
       "    .dataframe thead th {\n",
       "        text-align: right;\n",
       "    }\n",
       "</style>\n",
       "<table border=\"1\" class=\"dataframe\">\n",
       "  <thead>\n",
       "    <tr style=\"text-align: right;\">\n",
       "      <th></th>\n",
       "      <th>open</th>\n",
       "      <th>high</th>\n",
       "      <th>low</th>\n",
       "      <th>close</th>\n",
       "      <th>volume</th>\n",
       "    </tr>\n",
       "    <tr>\n",
       "      <th>time</th>\n",
       "      <th></th>\n",
       "      <th></th>\n",
       "      <th></th>\n",
       "      <th></th>\n",
       "      <th></th>\n",
       "    </tr>\n",
       "  </thead>\n",
       "  <tbody>\n",
       "    <tr>\n",
       "      <th>2013-12-27 00:00:00</th>\n",
       "      <td>737000.0</td>\n",
       "      <td>755000.0</td>\n",
       "      <td>737000.0</td>\n",
       "      <td>755000.0</td>\n",
       "      <td>3.780000</td>\n",
       "    </tr>\n",
       "    <tr>\n",
       "      <th>2013-12-28 00:00:00</th>\n",
       "      <td>750000.0</td>\n",
       "      <td>750000.0</td>\n",
       "      <td>750000.0</td>\n",
       "      <td>750000.0</td>\n",
       "      <td>12.000000</td>\n",
       "    </tr>\n",
       "    <tr>\n",
       "      <th>2013-12-29 00:00:00</th>\n",
       "      <td>750000.0</td>\n",
       "      <td>750000.0</td>\n",
       "      <td>728000.0</td>\n",
       "      <td>739000.0</td>\n",
       "      <td>19.058000</td>\n",
       "    </tr>\n",
       "    <tr>\n",
       "      <th>2013-12-30 00:00:00</th>\n",
       "      <td>740000.0</td>\n",
       "      <td>772000.0</td>\n",
       "      <td>740000.0</td>\n",
       "      <td>768000.0</td>\n",
       "      <td>9.488973</td>\n",
       "    </tr>\n",
       "    <tr>\n",
       "      <th>2013-12-31 00:00:00</th>\n",
       "      <td>768000.0</td>\n",
       "      <td>800000.0</td>\n",
       "      <td>763000.0</td>\n",
       "      <td>768000.0</td>\n",
       "      <td>18.650350</td>\n",
       "    </tr>\n",
       "    <tr>\n",
       "      <th>...</th>\n",
       "      <td>...</td>\n",
       "      <td>...</td>\n",
       "      <td>...</td>\n",
       "      <td>...</td>\n",
       "      <td>...</td>\n",
       "    </tr>\n",
       "    <tr>\n",
       "      <th>2023-02-26 00:00:00</th>\n",
       "      <td>30498000.0</td>\n",
       "      <td>31047000.0</td>\n",
       "      <td>30471000.0</td>\n",
       "      <td>30890000.0</td>\n",
       "      <td>838.625344</td>\n",
       "    </tr>\n",
       "    <tr>\n",
       "      <th>2023-02-27 00:00:00</th>\n",
       "      <td>30897000.0</td>\n",
       "      <td>31580000.0</td>\n",
       "      <td>30833000.0</td>\n",
       "      <td>31544000.0</td>\n",
       "      <td>1205.188234</td>\n",
       "    </tr>\n",
       "    <tr>\n",
       "      <th>2023-02-28 00:00:00</th>\n",
       "      <td>31539000.0</td>\n",
       "      <td>31632000.0</td>\n",
       "      <td>30838000.0</td>\n",
       "      <td>31081000.0</td>\n",
       "      <td>1126.423476</td>\n",
       "    </tr>\n",
       "    <tr>\n",
       "      <th>2023-03-01 00:00:00</th>\n",
       "      <td>31092000.0</td>\n",
       "      <td>31580000.0</td>\n",
       "      <td>30765000.0</td>\n",
       "      <td>31193000.0</td>\n",
       "      <td>1158.565146</td>\n",
       "    </tr>\n",
       "    <tr>\n",
       "      <th>2023-03-02 11:00:00</th>\n",
       "      <td>31180000.0</td>\n",
       "      <td>31272000.0</td>\n",
       "      <td>30937000.0</td>\n",
       "      <td>31097000.0</td>\n",
       "      <td>250.009834</td>\n",
       "    </tr>\n",
       "  </tbody>\n",
       "</table>\n",
       "<p>3263 rows × 5 columns</p>\n",
       "</div>"
      ],
      "text/plain": [
       "                           open        high         low       close  \\\n",
       "time                                                                  \n",
       "2013-12-27 00:00:00    737000.0    755000.0    737000.0    755000.0   \n",
       "2013-12-28 00:00:00    750000.0    750000.0    750000.0    750000.0   \n",
       "2013-12-29 00:00:00    750000.0    750000.0    728000.0    739000.0   \n",
       "2013-12-30 00:00:00    740000.0    772000.0    740000.0    768000.0   \n",
       "2013-12-31 00:00:00    768000.0    800000.0    763000.0    768000.0   \n",
       "...                         ...         ...         ...         ...   \n",
       "2023-02-26 00:00:00  30498000.0  31047000.0  30471000.0  30890000.0   \n",
       "2023-02-27 00:00:00  30897000.0  31580000.0  30833000.0  31544000.0   \n",
       "2023-02-28 00:00:00  31539000.0  31632000.0  30838000.0  31081000.0   \n",
       "2023-03-01 00:00:00  31092000.0  31580000.0  30765000.0  31193000.0   \n",
       "2023-03-02 11:00:00  31180000.0  31272000.0  30937000.0  31097000.0   \n",
       "\n",
       "                          volume  \n",
       "time                              \n",
       "2013-12-27 00:00:00     3.780000  \n",
       "2013-12-28 00:00:00    12.000000  \n",
       "2013-12-29 00:00:00    19.058000  \n",
       "2013-12-30 00:00:00     9.488973  \n",
       "2013-12-31 00:00:00    18.650350  \n",
       "...                          ...  \n",
       "2023-02-26 00:00:00   838.625344  \n",
       "2023-02-27 00:00:00  1205.188234  \n",
       "2023-02-28 00:00:00  1126.423476  \n",
       "2023-03-01 00:00:00  1158.565146  \n",
       "2023-03-02 11:00:00   250.009834  \n",
       "\n",
       "[3263 rows x 5 columns]"
      ]
     },
     "execution_count": 127,
     "metadata": {},
     "output_type": "execute_result"
    }
   ],
   "source": [
    "pb.get_ohlcv('BTC')"
   ]
  },
  {
   "cell_type": "code",
   "execution_count": 128,
   "metadata": {},
   "outputs": [
    {
     "name": "stdout",
     "output_type": "stream",
     "text": [
      "time\n",
      "2013-12-27 00:00:00      755000.0\n",
      "2013-12-28 00:00:00      750000.0\n",
      "2013-12-29 00:00:00      739000.0\n",
      "2013-12-30 00:00:00      768000.0\n",
      "2013-12-31 00:00:00      768000.0\n",
      "                          ...    \n",
      "2023-02-26 00:00:00    30890000.0\n",
      "2023-02-27 00:00:00    31544000.0\n",
      "2023-02-28 00:00:00    31081000.0\n",
      "2023-03-01 00:00:00    31193000.0\n",
      "2023-03-02 11:00:00    31096000.0\n",
      "Name: close, Length: 3263, dtype: float64\n"
     ]
    }
   ],
   "source": [
    "btc = pb.get_ohlcv('BTC')\n",
    "close = btc['close']\n",
    "print(close)"
   ]
  },
  {
   "cell_type": "code",
   "execution_count": 129,
   "metadata": {},
   "outputs": [
    {
     "name": "stdout",
     "output_type": "stream",
     "text": [
      "756000.0\n",
      "760400.0\n",
      "766000.0\n"
     ]
    }
   ],
   "source": [
    "# 수동으로 이동평균 계산\n",
    "btc = pb.get_ohlcv('BTC')\n",
    "close = btc['close']\n",
    "\n",
    "print((close[0]+close[1]+close[2]+close[3]+close[4])/5)\n",
    "print((close[1]+close[2]+close[3]+close[4]+close[5])/5)\n",
    "print((close[2]+close[3]+close[4]+close[5]+close[6])/5)"
   ]
  },
  {
   "cell_type": "code",
   "execution_count": 130,
   "metadata": {},
   "outputs": [
    {
     "name": "stdout",
     "output_type": "stream",
     "text": [
      "time\n",
      "2013-12-27 00:00:00           NaN\n",
      "2013-12-28 00:00:00           NaN\n",
      "2013-12-29 00:00:00           NaN\n",
      "2013-12-30 00:00:00           NaN\n",
      "2013-12-31 00:00:00      756000.0\n",
      "                          ...    \n",
      "2023-02-26 00:00:00    31049000.0\n",
      "2023-02-27 00:00:00    31101400.0\n",
      "2023-02-28 00:00:00    31052600.0\n",
      "2023-03-01 00:00:00    31041200.0\n",
      "2023-03-02 11:00:00    31158000.0\n",
      "Name: close, Length: 3263, dtype: float64\n"
     ]
    }
   ],
   "source": [
    "# 자동으로 이동평균 계산\n",
    "btc = pb.get_ohlcv('BTC')\n",
    "close = btc['close']\n",
    "\n",
    "roll5 = close.rolling(5)\n",
    "mean5 = roll5.mean()\n",
    "print(mean5)"
   ]
  },
  {
   "cell_type": "code",
   "execution_count": 131,
   "metadata": {},
   "outputs": [
    {
     "name": "stdout",
     "output_type": "stream",
     "text": [
      "상승장\n"
     ]
    }
   ],
   "source": [
    "# 상승 하락 판단\n",
    "btc = pb.get_ohlcv('BTC')\n",
    "close = btc['close']\n",
    "\n",
    "roll5 = close.rolling(5)\n",
    "mean5 = roll5.mean()\n",
    "last_mean5 = mean5[-2]\n",
    "\n",
    "# 비트코인 현재가\n",
    "price = pb.get_current_price('BTC')\n",
    "\n",
    "# 비교\n",
    "if price>last_mean5:\n",
    "    print('상승장')\n",
    "else :\n",
    "    print('하락장')"
   ]
  }
 ],
 "metadata": {
  "kernelspec": {
   "display_name": "base",
   "language": "python",
   "name": "python3"
  },
  "language_info": {
   "codemirror_mode": {
    "name": "ipython",
    "version": 3
   },
   "file_extension": ".py",
   "mimetype": "text/x-python",
   "name": "python",
   "nbconvert_exporter": "python",
   "pygments_lexer": "ipython3",
   "version": "3.9.13"
  },
  "orig_nbformat": 4,
  "vscode": {
   "interpreter": {
    "hash": "409e29e85da957a2d68492a1ac74d12c54e5caeffaa68e6bc72e4564403ccddc"
   }
  }
 },
 "nbformat": 4,
 "nbformat_minor": 2
}
